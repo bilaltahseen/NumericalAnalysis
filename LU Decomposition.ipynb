{
 "cells": [
  {
   "cell_type": "code",
   "execution_count": 25,
   "metadata": {},
   "outputs": [],
   "source": []
  },
  {
   "cell_type": "code",
   "execution_count": 27,
   "metadata": {},
   "outputs": [
    {
     "name": "stdout",
     "output_type": "stream",
     "text": [
      "matrix is diagonally dominant\n",
      "A:\n",
      "[[ 8  4 -1]\n",
      " [-2  5  1]\n",
      " [ 2 -1  6]]\n",
      "P:\n",
      "[[1. 0. 0.]\n",
      " [0. 1. 0.]\n",
      " [0. 0. 1.]]\n",
      "L:\n",
      "[[ 1.          0.          0.        ]\n",
      " [-0.25        1.          0.        ]\n",
      " [ 0.25       -0.33333333  1.        ]]\n",
      "U:\n",
      "[[ 8.    4.   -1.  ]\n",
      " [ 0.    6.    0.75]\n",
      " [ 0.    0.    6.5 ]]\n"
     ]
    }
   ],
   "source": [
    "import scipy\n",
    "import scipy.linalg   # SciPy Linear Algebra Library\n",
    "import numpy as np\n",
    "\n",
    "def dd(X):\n",
    "    D = np.diag(np.abs(X)) # Find diagonal coefficients\n",
    "    S = np.sum(np.abs(X), axis=1) - D # Find row sum without diagonal\n",
    "    if np.all(D > S):\n",
    "        print('matrix is diagonally dominant')\n",
    "    else:\n",
    "        print('NOT diagonally dominant')\n",
    "    return\n",
    "\n",
    "\n",
    "A = np.array([[8,4,-1],[-2,5,1],[2,-1,6]])\n",
    "dd(A);\n",
    "P, L, U = scipy.linalg.lu(A)\n",
    "\n",
    "print(\"A:\")\n",
    "print(A)\n",
    "\n",
    "print(\"P:\")\n",
    "print(P)\n",
    "\n",
    "print(\"L:\")\n",
    "print(L)\n",
    "\n",
    "print(\"U:\")\n",
    "print(U)"
   ]
  },
  {
   "cell_type": "code",
   "execution_count": null,
   "metadata": {},
   "outputs": [],
   "source": []
  }
 ],
 "metadata": {
  "kernelspec": {
   "display_name": "Python 3",
   "language": "python",
   "name": "python3"
  },
  "language_info": {
   "codemirror_mode": {
    "name": "ipython",
    "version": 3
   },
   "file_extension": ".py",
   "mimetype": "text/x-python",
   "name": "python",
   "nbconvert_exporter": "python",
   "pygments_lexer": "ipython3",
   "version": "3.8.2"
  }
 },
 "nbformat": 4,
 "nbformat_minor": 4
}
