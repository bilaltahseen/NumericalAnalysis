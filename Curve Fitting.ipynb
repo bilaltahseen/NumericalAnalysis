{
 "cells": [
  {
   "cell_type": "code",
   "execution_count": 81,
   "metadata": {},
   "outputs": [],
   "source": [
    "import numpy as np\n",
    "import argparse "
   ]
  },
  {
   "cell_type": "code",
   "execution_count": 87,
   "metadata": {},
   "outputs": [
    {
     "name": "stdout",
     "output_type": "stream",
     "text": [
      "Error\n"
     ]
    },
    {
     "name": "stderr",
     "output_type": "stream",
     "text": [
      "usage: ipykernel_launcher.py [-h] [--X X [X ...]] [--Y Y [Y ...]] [--T T]\n",
      "ipykernel_launcher.py: error: unrecognized arguments: -f C:\\Users\\Bilal\\AppData\\Roaming\\jupyter\\runtime\\kernel-5225123c-d8bb-4b9c-badb-ef9dd29cea80.json\n"
     ]
    }
   ],
   "source": [
    "parser = argparse.ArgumentParser()\n",
    "parser.add_argument(\"--X\", nargs=\"+\")\n",
    "parser.add_argument(\"--Y\", nargs=\"+\")\n",
    "parser.add_argument(\"--T\")\n",
    "\n",
    "try:\n",
    "    X = parser.parse_args().X\n",
    "    Y = parser.parse_args().Y\n",
    "    T = parser.parse_args().T\n",
    "    if T == \"poly\":\n",
    "         poly_line()\n",
    "    else:\n",
    "        st_line()\n",
    "except:\n",
    "    print(\"Error\")\n",
    "    \n",
    "def st_line(X,Y):\n",
    "    # Straight line\n",
    "    N = len(X)\n",
    "    print(\"Straight Line Fitting\")\n",
    "    print(\"X\",\" \",\"Y\",\" \",\"X^2\",\" \",\"XY\")\n",
    "    print(\"----------------\")\n",
    "    sumX2 = 0\n",
    "    sumXY = 0\n",
    "    sumX = 0\n",
    "    sumY = 0\n",
    "    for x,y in zip(X,Y):\n",
    "        sumX2 += x**2\n",
    "        sumXY += x*y\n",
    "        sumX += x\n",
    "        sumY += y\n",
    "        print(x,\" \",y,\" \",x**2,\" \",x*y)\n",
    "    print(\"----------------\")\n",
    "    print(\"EX=\",sumX,\"EY=\",sumY,\"EX^2=\",sumX2,\"EXY=\",sumXY)\n",
    "    a = (N * sumXY - sumX * sumY)/(N* sumX2 - (sumX)**2)\n",
    "    b = (sumY - a*sumX)/N\n",
    "    print(\"a =\",a,\"b =\",b)\n",
    "    print(f\"y^ = {a}x + {b}\")\n",
    "\n",
    "def poly_line(X,Y):\n",
    "    # Polynomial\n",
    "    N = len(X)\n",
    "    print(\"Polynomial Line Fitting\")\n",
    "    print(\"X\",\" \",\"Y\",\" \",\"X^4\",\" \",\"X^3\",\" \",\"X^2\",\" \",\"X^2Y\",\" \",\"XY\")\n",
    "    print(\"-------------------------------------------\")\n",
    "    sumX4 = 0\n",
    "    sumX3 = 0\n",
    "    sumX2 = 0\n",
    "    sumX = 0\n",
    "    sumX2Y =0\n",
    "    sumXY = 0\n",
    "    sumY = 0\n",
    "    for x,y in zip(X,Y):\n",
    "        sumX4 += x**4\n",
    "        sumX3 += x**3\n",
    "        sumX2 += x**2\n",
    "        sumX += x\n",
    "        sumX2Y += (x**2)*y\n",
    "        sumXY += x*y\n",
    "        sumY += y\n",
    "        print(x,\" \",y,\" \",x**4,\"    \",x**3,\"    \",x**2,\"    \",(x**2)*y,\"   \",x*y)\n",
    "    print(\"--------------------------------------------\")\n",
    "    print(f\"EX={sumX} EY={sumY} EX^4={sumX4} EX^3={sumX3} EX^2Y={sumX2Y} EXY={sumXY}\")\n",
    "    A=np.array([[sumX4,sumX3,sumX2],[sumX3,sumX2,sumX],[sumX2,sumX,N]])\n",
    "    B = np.array([[sumX2Y],[sumXY],[sumY]])\n",
    "    XV=np.matmul(np.linalg.inv(A),B)\n",
    "    print(\"a =\",XV[0],\"b =\",XV[1],\"c =\",XV[2])\n",
    "    print(f\"y^ = {XV[0][0]}x^2 + {XV[1][0]}x + {XV[2][0]}\")"
   ]
  },
  {
   "cell_type": "code",
   "execution_count": 157,
   "metadata": {},
   "outputs": [
    {
     "data": {
      "text/plain": [
       "[1, 2, 3, 4, 5, 6]"
      ]
     },
     "execution_count": 157,
     "metadata": {},
     "output_type": "execute_result"
    }
   ],
   "source": [
    "A = \"[1,2,3,4,5,6]\"\n",
    "[int(i) for i in A[1:-1].split(\",\")]"
   ]
  }
 ],
 "metadata": {
  "kernelspec": {
   "display_name": "Python 3",
   "language": "python",
   "name": "python3"
  },
  "language_info": {
   "codemirror_mode": {
    "name": "ipython",
    "version": 3
   },
   "file_extension": ".py",
   "mimetype": "text/x-python",
   "name": "python",
   "nbconvert_exporter": "python",
   "pygments_lexer": "ipython3",
   "version": "3.8.2"
  }
 },
 "nbformat": 4,
 "nbformat_minor": 4
}
