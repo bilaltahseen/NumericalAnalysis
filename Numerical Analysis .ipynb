{
 "cells": [
  {
   "cell_type": "code",
   "execution_count": 1,
   "metadata": {},
   "outputs": [],
   "source": [
    "from math import *"
   ]
  },
  {
   "cell_type": "code",
   "execution_count": 2,
   "metadata": {},
   "outputs": [],
   "source": [
    "#Euler Method"
   ]
  },
  {
   "cell_type": "code",
   "execution_count": 3,
   "metadata": {},
   "outputs": [
    {
     "name": "stdout",
     "output_type": "stream",
     "text": [
      "1.1\n"
     ]
    }
   ],
   "source": [
    "x0 = 0\n",
    "xn = 0.1\n",
    "h = 0.1\n",
    "N = (xn - x0)/h\n",
    "y = [0 for i in range(int(N+1))]\n",
    "y[0] = 1\n",
    "\n",
    "\n",
    "def funcGe():\n",
    "    return (y[i]-2*x0)/y[i]\n",
    "\n",
    "for i in range(int(N)):\n",
    "    func = funcGe()\n",
    "    y[i+1] = y[i] + h*func\n",
    "    x0 +=h\n",
    "    print(y[i+1])"
   ]
  },
  {
   "cell_type": "code",
   "execution_count": null,
   "metadata": {},
   "outputs": [],
   "source": [
    "#Modefied Euler Method"
   ]
  },
  {
   "cell_type": "code",
   "execution_count": null,
   "metadata": {},
   "outputs": [],
   "source": [
    "x0 = 0\n",
    "xn = 4\n",
    "h = 1\n",
    "N = (xn - x0)/h\n",
    "y = [0 for i in range(int(N+1))]\n",
    "y[x0] = 2\n",
    "\n",
    "    \n",
    "\n",
    "def funcGe(step=0,s=y[i]):\n",
    "    return 4*exp(0.8*(x0+step))-0.5*s\n",
    "\n",
    "\n",
    "for i in range(int(N)):\n",
    "    func = funcGe(0,y[i])\n",
    "    U = y[i] + h*func\n",
    "    func2 = funcGe(h,U)\n",
    "    y[i+1] = y[i] + (h/2)*(func + func2)\n",
    "    x0 +=h\n",
    "    print(y[i+1])"
   ]
  },
  {
   "cell_type": "code",
   "execution_count": null,
   "metadata": {},
   "outputs": [],
   "source": [
    "#RK-4 Method"
   ]
  },
  {
   "cell_type": "code",
   "execution_count": null,
   "metadata": {},
   "outputs": [
    {
     "name": "stdout",
     "output_type": "stream",
     "text": [
      "Enter initial conditions:\n"
     ]
    }
   ],
   "source": [
    "# RK-4 method python program\n",
    "\n",
    "# function to be solved\n",
    "def f(x,y):\n",
    "    return x*y**(1/3)\n",
    "\n",
    "# or\n",
    "# f = lambda x: x+y\n",
    "\n",
    "# RK-4 method\n",
    "def rk4(x0,y0,xn,n):\n",
    "    \n",
    "    # Calculating step size\n",
    "    h = (xn-x0)/n\n",
    "    \n",
    "    print('\\n--------SOLUTION--------')\n",
    "    print('-------------------------')    \n",
    "    print('x0\\ty0\\tyn')\n",
    "    print('-------------------------')\n",
    "    for i in range(n):\n",
    "        k1 = h * (f(x0, y0))\n",
    "        k2 = h * (f((x0+h/2), (y0+k1/2)))\n",
    "        k3 = h * (f((x0+h/2), (y0+k2/2)))\n",
    "        k4 = h * (f((x0+h), (y0+k3)))\n",
    "        k = (k1+2*k2+2*k3+k4)/6\n",
    "        yn = y0 + k\n",
    "        print('%.4f\\t%.4f\\t%.4f'% (x0,y0,yn) )\n",
    "        print('-------------------------')\n",
    "        y0 = yn\n",
    "        x0 = x0+h\n",
    "    \n",
    "    print('\\nAt x=%.4f, y=%.4f' %(xn,yn))\n",
    "\n",
    "# Inputs\n",
    "print('Enter initial conditions:')\n",
    "x0 = float(input('x0 = '))\n",
    "y0 = float(input('y0 = '))\n",
    "\n",
    "print('Enter calculation point: ')\n",
    "xn = float(input('xn = '))\n",
    "\n",
    "print('Enter number of steps:')\n",
    "step = int(input('Number of steps = '))\n",
    "\n",
    "# RK4 method call\n",
    "rk4(x0,y0,xn,step)"
   ]
  },
  {
   "cell_type": "code",
   "execution_count": null,
   "metadata": {},
   "outputs": [],
   "source": []
  }
 ],
 "metadata": {
  "kernelspec": {
   "display_name": "Python 3",
   "language": "python",
   "name": "python3"
  },
  "language_info": {
   "codemirror_mode": {
    "name": "ipython",
    "version": 3
   },
   "file_extension": ".py",
   "mimetype": "text/x-python",
   "name": "python",
   "nbconvert_exporter": "python",
   "pygments_lexer": "ipython3",
   "version": "3.8.2"
  }
 },
 "nbformat": 4,
 "nbformat_minor": 4
}
